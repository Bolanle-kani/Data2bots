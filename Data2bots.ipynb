{
 "cells": [
  {
   "cell_type": "code",
   "execution_count": 1,
   "metadata": {},
   "outputs": [],
   "source": [
    "import numpy as np\n",
    "import pandas as pd\n",
    "import time\n",
    "from datetime import datetime, date\n",
    "import json\n",
    "import warnings\n",
    "warnings.filterwarnings('ignore')"
   ]
  },
  {
   "cell_type": "markdown",
   "metadata": {},
   "source": [
    "### Reads the data from your local file directory"
   ]
  },
  {
   "cell_type": "code",
   "execution_count": 2,
   "metadata": {},
   "outputs": [
    {
     "data": {
      "text/html": [
       "<div>\n",
       "<style scoped>\n",
       "    .dataframe tbody tr th:only-of-type {\n",
       "        vertical-align: middle;\n",
       "    }\n",
       "\n",
       "    .dataframe tbody tr th {\n",
       "        vertical-align: top;\n",
       "    }\n",
       "\n",
       "    .dataframe thead th {\n",
       "        text-align: right;\n",
       "    }\n",
       "</style>\n",
       "<table border=\"1\" class=\"dataframe\">\n",
       "  <thead>\n",
       "    <tr style=\"text-align: right;\">\n",
       "      <th></th>\n",
       "      <th>date</th>\n",
       "      <th>sku</th>\n",
       "      <th>warehouse_location</th>\n",
       "      <th>quantity</th>\n",
       "    </tr>\n",
       "  </thead>\n",
       "  <tbody>\n",
       "    <tr>\n",
       "      <th>0</th>\n",
       "      <td>2021-01-02</td>\n",
       "      <td>100940478</td>\n",
       "      <td>lagos</td>\n",
       "      <td>23</td>\n",
       "    </tr>\n",
       "    <tr>\n",
       "      <th>1</th>\n",
       "      <td>2020-11-09</td>\n",
       "      <td>100940479</td>\n",
       "      <td>lagos</td>\n",
       "      <td>84</td>\n",
       "    </tr>\n",
       "    <tr>\n",
       "      <th>2</th>\n",
       "      <td>2021-01-15</td>\n",
       "      <td>100940480</td>\n",
       "      <td>oyo</td>\n",
       "      <td>11</td>\n",
       "    </tr>\n",
       "    <tr>\n",
       "      <th>3</th>\n",
       "      <td>2016-11-09</td>\n",
       "      <td>100940481</td>\n",
       "      <td>ogun</td>\n",
       "      <td>98</td>\n",
       "    </tr>\n",
       "    <tr>\n",
       "      <th>4</th>\n",
       "      <td>2017-04-04</td>\n",
       "      <td>100940482</td>\n",
       "      <td>ogun</td>\n",
       "      <td>23</td>\n",
       "    </tr>\n",
       "  </tbody>\n",
       "</table>\n",
       "</div>"
      ],
      "text/plain": [
       "         date        sku warehouse_location  quantity\n",
       "0  2021-01-02  100940478              lagos        23\n",
       "1  2020-11-09  100940479              lagos        84\n",
       "2  2021-01-15  100940480                oyo        11\n",
       "3  2016-11-09  100940481               ogun        98\n",
       "4  2017-04-04  100940482               ogun        23"
      ]
     },
     "execution_count": 2,
     "metadata": {},
     "output_type": "execute_result"
    }
   ],
   "source": [
    "df = pd.read_csv('python hands-on - dataset.csv')\n",
    "df.head()"
   ]
  },
  {
   "cell_type": "code",
   "execution_count": 3,
   "metadata": {},
   "outputs": [
    {
     "name": "stdout",
     "output_type": "stream",
     "text": [
      "<class 'pandas.core.frame.DataFrame'>\n",
      "RangeIndex: 10 entries, 0 to 9\n",
      "Data columns (total 4 columns):\n",
      " #   Column              Non-Null Count  Dtype \n",
      "---  ------              --------------  ----- \n",
      " 0   date                10 non-null     object\n",
      " 1   sku                 10 non-null     int64 \n",
      " 2   warehouse_location  10 non-null     object\n",
      " 3   quantity            10 non-null     int64 \n",
      "dtypes: int64(2), object(2)\n",
      "memory usage: 448.0+ bytes\n"
     ]
    }
   ],
   "source": [
    "df.info()"
   ]
  },
  {
   "cell_type": "code",
   "execution_count": 4,
   "metadata": {},
   "outputs": [
    {
     "data": {
      "text/html": [
       "<div>\n",
       "<style scoped>\n",
       "    .dataframe tbody tr th:only-of-type {\n",
       "        vertical-align: middle;\n",
       "    }\n",
       "\n",
       "    .dataframe tbody tr th {\n",
       "        vertical-align: top;\n",
       "    }\n",
       "\n",
       "    .dataframe thead th {\n",
       "        text-align: right;\n",
       "    }\n",
       "</style>\n",
       "<table border=\"1\" class=\"dataframe\">\n",
       "  <thead>\n",
       "    <tr style=\"text-align: right;\">\n",
       "      <th></th>\n",
       "      <th>date</th>\n",
       "      <th>sku</th>\n",
       "      <th>warehouse_location</th>\n",
       "      <th>quantity</th>\n",
       "    </tr>\n",
       "  </thead>\n",
       "  <tbody>\n",
       "    <tr>\n",
       "      <th>0</th>\n",
       "      <td>2021-01-02</td>\n",
       "      <td>100940478</td>\n",
       "      <td>lagos</td>\n",
       "      <td>23</td>\n",
       "    </tr>\n",
       "    <tr>\n",
       "      <th>1</th>\n",
       "      <td>2020-11-09</td>\n",
       "      <td>100940479</td>\n",
       "      <td>lagos</td>\n",
       "      <td>84</td>\n",
       "    </tr>\n",
       "    <tr>\n",
       "      <th>2</th>\n",
       "      <td>2021-01-15</td>\n",
       "      <td>100940480</td>\n",
       "      <td>oyo</td>\n",
       "      <td>11</td>\n",
       "    </tr>\n",
       "    <tr>\n",
       "      <th>3</th>\n",
       "      <td>2016-11-09</td>\n",
       "      <td>100940481</td>\n",
       "      <td>ogun</td>\n",
       "      <td>98</td>\n",
       "    </tr>\n",
       "    <tr>\n",
       "      <th>4</th>\n",
       "      <td>2017-04-04</td>\n",
       "      <td>100940482</td>\n",
       "      <td>ogun</td>\n",
       "      <td>23</td>\n",
       "    </tr>\n",
       "  </tbody>\n",
       "</table>\n",
       "</div>"
      ],
      "text/plain": [
       "        date        sku warehouse_location  quantity\n",
       "0 2021-01-02  100940478              lagos        23\n",
       "1 2020-11-09  100940479              lagos        84\n",
       "2 2021-01-15  100940480                oyo        11\n",
       "3 2016-11-09  100940481               ogun        98\n",
       "4 2017-04-04  100940482               ogun        23"
      ]
     },
     "execution_count": 4,
     "metadata": {},
     "output_type": "execute_result"
    }
   ],
   "source": [
    "df['date']=pd.to_datetime(df['date'])#change the date data type\n",
    "\n",
    "df.head()"
   ]
  },
  {
   "cell_type": "code",
   "execution_count": 5,
   "metadata": {},
   "outputs": [
    {
     "name": "stdout",
     "output_type": "stream",
     "text": [
      "<class 'pandas.core.frame.DataFrame'>\n",
      "RangeIndex: 10 entries, 0 to 9\n",
      "Data columns (total 4 columns):\n",
      " #   Column              Non-Null Count  Dtype         \n",
      "---  ------              --------------  -----         \n",
      " 0   date                10 non-null     datetime64[ns]\n",
      " 1   sku                 10 non-null     int64         \n",
      " 2   warehouse_location  10 non-null     object        \n",
      " 3   quantity            10 non-null     int64         \n",
      "dtypes: datetime64[ns](1), int64(2), object(1)\n",
      "memory usage: 448.0+ bytes\n"
     ]
    }
   ],
   "source": [
    "df.info()"
   ]
  },
  {
   "cell_type": "markdown",
   "metadata": {},
   "source": [
    "### Adds a new column named [obsolete]. The column should flag TRUE, indicating an item is expired and FALSE, otherwise"
   ]
  },
  {
   "cell_type": "code",
   "execution_count": 6,
   "metadata": {},
   "outputs": [],
   "source": [
    "ddate = '2021-01-01'\n",
    "ddate=pd.to_datetime(ddate)\n",
    "\n",
    "def expired(date):\n",
    "    \n",
    "    if date <=  ddate:\n",
    "        return True\n",
    "    else:\n",
    "        return False"
   ]
  },
  {
   "cell_type": "code",
   "execution_count": 7,
   "metadata": {},
   "outputs": [],
   "source": [
    "df['obsolete'] = df['date'].apply(expired)"
   ]
  },
  {
   "cell_type": "code",
   "execution_count": 8,
   "metadata": {},
   "outputs": [
    {
     "data": {
      "text/html": [
       "<div>\n",
       "<style scoped>\n",
       "    .dataframe tbody tr th:only-of-type {\n",
       "        vertical-align: middle;\n",
       "    }\n",
       "\n",
       "    .dataframe tbody tr th {\n",
       "        vertical-align: top;\n",
       "    }\n",
       "\n",
       "    .dataframe thead th {\n",
       "        text-align: right;\n",
       "    }\n",
       "</style>\n",
       "<table border=\"1\" class=\"dataframe\">\n",
       "  <thead>\n",
       "    <tr style=\"text-align: right;\">\n",
       "      <th></th>\n",
       "      <th>date</th>\n",
       "      <th>sku</th>\n",
       "      <th>warehouse_location</th>\n",
       "      <th>quantity</th>\n",
       "      <th>obsolete</th>\n",
       "    </tr>\n",
       "  </thead>\n",
       "  <tbody>\n",
       "    <tr>\n",
       "      <th>0</th>\n",
       "      <td>2021-01-02</td>\n",
       "      <td>100940478</td>\n",
       "      <td>lagos</td>\n",
       "      <td>23</td>\n",
       "      <td>False</td>\n",
       "    </tr>\n",
       "    <tr>\n",
       "      <th>1</th>\n",
       "      <td>2020-11-09</td>\n",
       "      <td>100940479</td>\n",
       "      <td>lagos</td>\n",
       "      <td>84</td>\n",
       "      <td>True</td>\n",
       "    </tr>\n",
       "    <tr>\n",
       "      <th>2</th>\n",
       "      <td>2021-01-15</td>\n",
       "      <td>100940480</td>\n",
       "      <td>oyo</td>\n",
       "      <td>11</td>\n",
       "      <td>False</td>\n",
       "    </tr>\n",
       "    <tr>\n",
       "      <th>3</th>\n",
       "      <td>2016-11-09</td>\n",
       "      <td>100940481</td>\n",
       "      <td>ogun</td>\n",
       "      <td>98</td>\n",
       "      <td>True</td>\n",
       "    </tr>\n",
       "    <tr>\n",
       "      <th>4</th>\n",
       "      <td>2017-04-04</td>\n",
       "      <td>100940482</td>\n",
       "      <td>ogun</td>\n",
       "      <td>23</td>\n",
       "      <td>True</td>\n",
       "    </tr>\n",
       "    <tr>\n",
       "      <th>5</th>\n",
       "      <td>2018-01-13</td>\n",
       "      <td>100940483</td>\n",
       "      <td>abia</td>\n",
       "      <td>3</td>\n",
       "      <td>True</td>\n",
       "    </tr>\n",
       "    <tr>\n",
       "      <th>6</th>\n",
       "      <td>2021-03-15</td>\n",
       "      <td>100940484</td>\n",
       "      <td>kaduna</td>\n",
       "      <td>7</td>\n",
       "      <td>False</td>\n",
       "    </tr>\n",
       "    <tr>\n",
       "      <th>7</th>\n",
       "      <td>2021-01-11</td>\n",
       "      <td>100940485</td>\n",
       "      <td>abuja</td>\n",
       "      <td>4</td>\n",
       "      <td>False</td>\n",
       "    </tr>\n",
       "    <tr>\n",
       "      <th>8</th>\n",
       "      <td>2021-02-16</td>\n",
       "      <td>100940486</td>\n",
       "      <td>kano</td>\n",
       "      <td>9</td>\n",
       "      <td>False</td>\n",
       "    </tr>\n",
       "    <tr>\n",
       "      <th>9</th>\n",
       "      <td>2019-06-06</td>\n",
       "      <td>100940487</td>\n",
       "      <td>anambra</td>\n",
       "      <td>199</td>\n",
       "      <td>True</td>\n",
       "    </tr>\n",
       "  </tbody>\n",
       "</table>\n",
       "</div>"
      ],
      "text/plain": [
       "        date        sku warehouse_location  quantity  obsolete\n",
       "0 2021-01-02  100940478              lagos        23     False\n",
       "1 2020-11-09  100940479              lagos        84      True\n",
       "2 2021-01-15  100940480                oyo        11     False\n",
       "3 2016-11-09  100940481               ogun        98      True\n",
       "4 2017-04-04  100940482               ogun        23      True\n",
       "5 2018-01-13  100940483               abia         3      True\n",
       "6 2021-03-15  100940484             kaduna         7     False\n",
       "7 2021-01-11  100940485              abuja         4     False\n",
       "8 2021-02-16  100940486               kano         9     False\n",
       "9 2019-06-06  100940487            anambra       199      True"
      ]
     },
     "execution_count": 8,
     "metadata": {},
     "output_type": "execute_result"
    }
   ],
   "source": [
    "df"
   ]
  },
  {
   "cell_type": "markdown",
   "metadata": {},
   "source": [
    "### Transform the output data to a JSON format"
   ]
  },
  {
   "cell_type": "code",
   "execution_count": 9,
   "metadata": {},
   "outputs": [],
   "source": [
    "result = df.to_json(indent=4)"
   ]
  },
  {
   "cell_type": "code",
   "execution_count": 10,
   "metadata": {},
   "outputs": [
    {
     "name": "stdout",
     "output_type": "stream",
     "text": [
      "{\n",
      "    \"date\":{\n",
      "        \"0\":1609545600000,\n",
      "        \"1\":1604880000000,\n",
      "        \"2\":1610668800000,\n",
      "        \"3\":1478649600000,\n",
      "        \"4\":1491264000000,\n",
      "        \"5\":1515801600000,\n",
      "        \"6\":1615766400000,\n",
      "        \"7\":1610323200000,\n",
      "        \"8\":1613433600000,\n",
      "        \"9\":1559779200000\n",
      "    },\n",
      "    \"sku\":{\n",
      "        \"0\":100940478,\n",
      "        \"1\":100940479,\n",
      "        \"2\":100940480,\n",
      "        \"3\":100940481,\n",
      "        \"4\":100940482,\n",
      "        \"5\":100940483,\n",
      "        \"6\":100940484,\n",
      "        \"7\":100940485,\n",
      "        \"8\":100940486,\n",
      "        \"9\":100940487\n",
      "    },\n",
      "    \"warehouse_location\":{\n",
      "        \"0\":\"lagos\",\n",
      "        \"1\":\"lagos\",\n",
      "        \"2\":\"oyo\",\n",
      "        \"3\":\"ogun\",\n",
      "        \"4\":\"ogun\",\n",
      "        \"5\":\"abia\",\n",
      "        \"6\":\"kaduna\",\n",
      "        \"7\":\"abuja\",\n",
      "        \"8\":\"kano\",\n",
      "        \"9\":\"anambra\"\n",
      "    },\n",
      "    \"quantity\":{\n",
      "        \"0\":23,\n",
      "        \"1\":84,\n",
      "        \"2\":11,\n",
      "        \"3\":98,\n",
      "        \"4\":23,\n",
      "        \"5\":3,\n",
      "        \"6\":7,\n",
      "        \"7\":4,\n",
      "        \"8\":9,\n",
      "        \"9\":199\n",
      "    },\n",
      "    \"obsolete\":{\n",
      "        \"0\":false,\n",
      "        \"1\":true,\n",
      "        \"2\":false,\n",
      "        \"3\":true,\n",
      "        \"4\":true,\n",
      "        \"5\":true,\n",
      "        \"6\":false,\n",
      "        \"7\":false,\n",
      "        \"8\":false,\n",
      "        \"9\":true\n",
      "    }\n",
      "}\n"
     ]
    }
   ],
   "source": [
    "print(result)"
   ]
  },
  {
   "cell_type": "markdown",
   "metadata": {},
   "source": [
    "### Store the data in your local directory"
   ]
  },
  {
   "cell_type": "code",
   "execution_count": 11,
   "metadata": {},
   "outputs": [],
   "source": [
    "json_file = df.to_json('Data2bots.json')"
   ]
  },
  {
   "cell_type": "code",
   "execution_count": null,
   "metadata": {},
   "outputs": [],
   "source": []
  }
 ],
 "metadata": {
  "kernelspec": {
   "display_name": "Python 3",
   "language": "python",
   "name": "python3"
  },
  "language_info": {
   "codemirror_mode": {
    "name": "ipython",
    "version": 3
   },
   "file_extension": ".py",
   "mimetype": "text/x-python",
   "name": "python",
   "nbconvert_exporter": "python",
   "pygments_lexer": "ipython3",
   "version": "3.7.6"
  }
 },
 "nbformat": 4,
 "nbformat_minor": 4
}
